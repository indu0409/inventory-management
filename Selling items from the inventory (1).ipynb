{
 "cells": [
  {
   "cell_type": "code",
   "execution_count": 46,
   "id": "5d328b10",
   "metadata": {},
   "outputs": [],
   "source": [
    "import json\n",
    "fd=open(\"record.json\",\"r\")\n",
    "r=fd.read()\n",
    "fd.close()\n",
    "di=json.loads(r)\n",
    "\n"
   ]
  },
  {
   "cell_type": "code",
   "execution_count": 56,
   "id": "658061b0",
   "metadata": {},
   "outputs": [
    {
     "data": {
      "text/plain": [
       "{'01': {'name': 'apple',\n",
       "  'category': 'fruits',\n",
       "  'price': 100,\n",
       "  'quantity': 27,\n",
       "  'brand': 'fuji'},\n",
       " '02': {'name': 'pears',\n",
       "  'category': 'fruits',\n",
       "  'price': 180,\n",
       "  'quantity': 15,\n",
       "  'brand': 'Barlette'},\n",
       " '03': {'name': 'orange',\n",
       "  'category': 'fruits',\n",
       "  'price': 200,\n",
       "  'quantity': 8,\n",
       "  'brand': 'navel orange'},\n",
       " '04': {'name': 'butter',\n",
       "  'category': 'dairy',\n",
       "  'price': 50,\n",
       "  'quantity': 50,\n",
       "  'brand': 'amul'},\n",
       " '05': {'name': 'eggs',\n",
       "  'category': 'dairy',\n",
       "  'price': 10,\n",
       "  'quantity': 100,\n",
       "  'brand': 'vital farm eggs'},\n",
       " '06': {'name': 'cheese',\n",
       "  'category': 'dairy',\n",
       "  'price': 60,\n",
       "  'quantity': 80,\n",
       "  'brand': 'amul'},\n",
       " '07': {'name': 'shampoo',\n",
       "  'category': 'toiletries',\n",
       "  'price': 120,\n",
       "  'quantity': 100,\n",
       "  'brand': 'pantene'},\n",
       " '08': {'name': 'tooth paste',\n",
       "  'category': 'toiletries',\n",
       "  'price': 30,\n",
       "  'quantity': 150,\n",
       "  'brand': 'meswak'},\n",
       " '09': {'name': 'deodrant',\n",
       "  'category': 'toiletries',\n",
       "  'price': 100,\n",
       "  'quantity': 90,\n",
       "  'brand': 'fogg'},\n",
       " '10': {'name': 'gargabe bags',\n",
       "  'category': 'household',\n",
       "  'price': 10,\n",
       "  'quantity': 30,\n",
       "  'brand': 'presto'},\n",
       " '11': {'name': 'laundry soap',\n",
       "  'category': 'household',\n",
       "  'price': 25,\n",
       "  'quantity': 80,\n",
       "  'brand': 'surf excel'},\n",
       " '12': {'name': 'dryer sheets',\n",
       "  'category': 'household',\n",
       "  'price': 100,\n",
       "  'quantity': 90,\n",
       "  'brand': 'lenor'},\n",
       " '13': {'name': 'broccoli',\n",
       "  'category': 'vegetables',\n",
       "  'price': 60,\n",
       "  'quantity': 50,\n",
       "  'brand': 'farm fresh'},\n",
       " '14': {'name': 'carrot',\n",
       "  'category': 'vegetables',\n",
       "  'price': 40,\n",
       "  'quantity': 80,\n",
       "  'brand': 'farm fresh'},\n",
       " '15': {'name': 'tomato',\n",
       "  'category': 'vegetables',\n",
       "  'price': 60,\n",
       "  'quantity': 96,\n",
       "  'brand': 'farm fresh'},\n",
       " '16': {'name': 'salt',\n",
       "  'category': 'spices',\n",
       "  'price': 20,\n",
       "  'quantity': 30,\n",
       "  'brand': 'tata'},\n",
       " '17': {'name': 'pepper',\n",
       "  'category': 'spices',\n",
       "  'price': 10,\n",
       "  'quantity': 50,\n",
       "  'brand': 'everest'},\n",
       " '18': {'name': 'paprika',\n",
       "  'category': 'spices',\n",
       "  'price': 35,\n",
       "  'quantity': 20,\n",
       "  'brand': 'mantra'},\n",
       " '19': {'name': 'sugar',\n",
       "  'category': 'baking',\n",
       "  'price': 50,\n",
       "  'quantity': 35,\n",
       "  'brand': 'parrys'},\n",
       " '20': {'name': 'flour',\n",
       "  'category': 'baking',\n",
       "  'price': 100,\n",
       "  'quantity': 25,\n",
       "  'brand': 'naga'},\n",
       " '21': {'name': 'vannila essence',\n",
       "  'category': 'breaking',\n",
       "  'price': 35,\n",
       "  'quantity': 15,\n",
       "  'brand': 'color'},\n",
       " '22': {'name': 'bagels',\n",
       "  'category': 'breads',\n",
       "  'price': 30,\n",
       "  'quantity': 42,\n",
       "  'brand': 'modern'},\n",
       " '23': {'name': 'sandwich',\n",
       "  'category': 'breads',\n",
       "  'price': 30,\n",
       "  'quantity': 23,\n",
       "  'brand': 'modern'},\n",
       " '24': {'name': 'tortillas',\n",
       "  'category': 'breads',\n",
       "  'price': 100,\n",
       "  'quantity': 65,\n",
       "  'brand': 'modern'},\n",
       " '25': {'name': 'cookies',\n",
       "  'category': 'snacks',\n",
       "  'price': 30,\n",
       "  'quantity': 80,\n",
       "  'brand': 'hide and seek'},\n",
       " '26': {'name': 'chips',\n",
       "  'category': 'snacks',\n",
       "  'price': 10,\n",
       "  'quantity': 67,\n",
       "  'brand': 'lays'},\n",
       " '27': {'name': 'snack bar',\n",
       "  'category': 'snacks',\n",
       "  'price': 10,\n",
       "  'quantity': 98,\n",
       "  'brand': 'snickers'},\n",
       " '28': {'name': 'sesame oil',\n",
       "  'category': 'oils',\n",
       "  'price': 100,\n",
       "  'quantity': 80,\n",
       "  'brand': 'vedaka'},\n",
       " '29': {'name': 'mustard oil',\n",
       "  'category': 'oils',\n",
       "  'price': 120,\n",
       "  'quantity': 100,\n",
       "  'brand': 'anveshan'},\n",
       " '30': {'name': 'olive',\n",
       "  'category': 'oils',\n",
       "  'price': 100,\n",
       "  'quantity': 45,\n",
       "  'brand': 'fiagro'},\n",
       " '31': {'name': 'pencil',\n",
       "  'category': 'stationary',\n",
       "  'price': 5,\n",
       "  'quantity': 50,\n",
       "  'brand': 'apsara'},\n",
       " '32': {'name': 'eraser',\n",
       "  'category': 'stationary',\n",
       "  'price': 5,\n",
       "  'quantity': 46,\n",
       "  'brand': 'camel'},\n",
       " '33': {'name': 'pen',\n",
       "  'category': 'stationary',\n",
       "  'price': 20,\n",
       "  'quantity': 34,\n",
       "  'brand': 'reynolds'}}"
      ]
     },
     "execution_count": 56,
     "metadata": {},
     "output_type": "execute_result"
    }
   ],
   "source": [
    "di"
   ]
  },
  {
   "cell_type": "code",
   "execution_count": 2,
   "id": "7a3d5cde",
   "metadata": {},
   "outputs": [
    {
     "data": {
      "text/plain": [
       "dict_keys(['01', '02', '03', '04', '05', '06', '07', '08', '09', '10', '11', '12', '13', '14', '15', '16', '17', '18', '19', '20', '21', '22', '23', '24', '25', '26', '27', '28', '29', '30', '31', '32', '33'])"
      ]
     },
     "execution_count": 2,
     "metadata": {},
     "output_type": "execute_result"
    }
   ],
   "source": [
    "k=di.keys()\n",
    "k"
   ]
  },
  {
   "cell_type": "code",
   "execution_count": 52,
   "id": "88297b4c",
   "metadata": {},
   "outputs": [],
   "source": []
  },
  {
   "cell_type": "markdown",
   "id": "d89706eb",
   "metadata": {},
   "source": [
    "## Tax rate for each product"
   ]
  },
  {
   "cell_type": "code",
   "execution_count": 12,
   "id": "3fab17af",
   "metadata": {},
   "outputs": [],
   "source": [
    "tax={'01':0,'02':0,'03':0,'04':0.12,'05':0,'06':0.12,'07':0.05,'08':0.18,'09':0.18,'10':0.12,'11':0.18,'12':0.12,'13':0,'14':0,'15':0,'16':0,'17':0.05,'18':0.05,'19':0.05,'20':0,'21':0.05,'22':0.05,'23':0.05,'24':0.05,'25':0.18,'26':0.18,'27':0.18,'28':0,'29':0,'30':0,'31':0.05,'32':0.12,'33':0.12}"
   ]
  },
  {
   "cell_type": "code",
   "execution_count": 4,
   "id": "0dee5a78",
   "metadata": {},
   "outputs": [],
   "source": [
    "ti={}"
   ]
  },
  {
   "cell_type": "code",
   "execution_count": 36,
   "id": "c4cacd06",
   "metadata": {},
   "outputs": [],
   "source": [
    "import time"
   ]
  },
  {
   "cell_type": "code",
   "execution_count": 56,
   "id": "104be4ab",
   "metadata": {},
   "outputs": [],
   "source": [
    "transactionid=6000"
   ]
  },
  {
   "cell_type": "code",
   "execution_count": 74,
   "id": "7cb0607e",
   "metadata": {},
   "outputs": [
    {
     "name": "stdout",
     "output_type": "stream",
     "text": [
      "Enter a product id\n",
      "03\n",
      "Enter the quantities of the product that you want to purchase:\n",
      "2\n",
      "--------------------------------------------------------------------------------------------------\n",
      "\n",
      "productid              name              brand        quantity           price         amount\n",
      " \n",
      "*************************************************************************************************\n",
      "\n",
      "   03                    orange    navel orange         2                200           400\n",
      "\n",
      "*************************************************************************************************\n",
      "\n",
      "Tax :                                                                                    0\n",
      "Total Amount:                                                                            400\n"
     ]
    }
   ],
   "source": [
    "id=input(\"Enter a product id\\n\")\n",
    "if(id not in k):\n",
    "    print(\"Enter a Valid Product Id!!!\")\n",
    "qty=int(input(\"Enter the quantities of the product that you want to purchase:\\n\"))\n",
    "if(qty<=di[id]['quantity']):\n",
    "    di[id]['quantity']=di[id]['quantity']-qty\n",
    "    taxamount=tax[id]*qty*di[id]['price']\n",
    "    amount=(qty*di[id]['price'])+taxamount\n",
    "    print(\"--------------------------------------------------------------------------------------------------\\n\")\n",
    "    print(\"%5s %17s %18s %15s %15s %15s \"%(\"productid\",\"name\",\"brand\",\"quantity\",\"price\",\"amount\\n\"))\n",
    "    print(\"*************************************************************************************************\\n\")\n",
    "    print(\"%5s %25s %15s %9d %18d %13d\\n\"%(id,di[id]['name'],di[id]['brand'],qty,di[id]['price'],(qty*di[id]['price'])))\n",
    "    print(\"*************************************************************************************************\\n\")\n",
    "    print(\"Tax :                                                                                   \",tax[id])\n",
    "    print(\"Total Amount:                                                                           \",amount)\n",
    "    js=json.dumps(di)\n",
    "    fd=open(\"record.json\",\"w\")\n",
    "    fd.write(js)\n",
    "    fd.close()\n",
    "    transactionid=transactionid+1\n",
    "    ti[transactionid]={\"name\":di[id]['name'],\"quantity\":qty,\"brand\":di[id]['brand'],\"category\":di[id]['category'],\"amount\":amount,\"billdate\":time.ctime()}\n",
    "    jp=json.dumps(ti)\n",
    "    fp=open(\"Sales6.json\",\"w\")\n",
    "    fp.write(jp)\n",
    "    fp.close()\n",
    "else:\n",
    "    print(\"only %d quantities of %s are left! provide the quantities within the specified limit\" %(di[id]['quantity'],di[id]['name']))\n",
    "\n"
   ]
  },
  {
   "cell_type": "code",
   "execution_count": 72,
   "id": "b02473d8",
   "metadata": {},
   "outputs": [
    {
     "data": {
      "text/plain": [
       "{6001: {'name': 'cheese',\n",
       "  'quantity': 1,\n",
       "  'brand': 'amul',\n",
       "  'category': 'dairy',\n",
       "  'amount': 67.2,\n",
       "  'billdate': 'Sat Sep  4 21:56:29 2021'},\n",
       " 6002: {'name': 'salt',\n",
       "  'quantity': 2,\n",
       "  'brand': 'tata',\n",
       "  'category': 'spices',\n",
       "  'amount': 40,\n",
       "  'billdate': 'Sat Sep  4 21:56:45 2021'},\n",
       " 6003: {'name': 'shampoo',\n",
       "  'quantity': 4,\n",
       "  'brand': 'pantene',\n",
       "  'category': 'toiletries',\n",
       "  'amount': 504.0,\n",
       "  'billdate': 'Sat Sep  4 21:57:09 2021'},\n",
       " 6004: {'name': 'deodrant',\n",
       "  'quantity': 1,\n",
       "  'brand': 'fogg',\n",
       "  'category': 'toiletries',\n",
       "  'amount': 118.0,\n",
       "  'billdate': 'Sat Sep  4 21:57:18 2021'},\n",
       " 6005: {'name': 'sugar',\n",
       "  'quantity': 5,\n",
       "  'brand': 'parrys',\n",
       "  'category': 'baking',\n",
       "  'amount': 262.5,\n",
       "  'billdate': 'Sat Sep  4 21:57:33 2021'},\n",
       " 6006: {'name': 'dryer sheets',\n",
       "  'quantity': 10,\n",
       "  'brand': 'lenor',\n",
       "  'category': 'household',\n",
       "  'amount': 1120.0,\n",
       "  'billdate': 'Sat Sep  4 21:58:38 2021'},\n",
       " 6007: {'name': 'flour',\n",
       "  'quantity': 8,\n",
       "  'brand': 'naga',\n",
       "  'category': 'baking',\n",
       "  'amount': 800,\n",
       "  'billdate': 'Sat Sep  4 21:58:52 2021'},\n",
       " 6008: {'name': 'bagels',\n",
       "  'quantity': 7,\n",
       "  'brand': 'modern',\n",
       "  'category': 'breads',\n",
       "  'amount': 220.5,\n",
       "  'billdate': 'Sat Sep  4 21:58:58 2021'},\n",
       " 6009: {'name': 'pepper',\n",
       "  'quantity': 3,\n",
       "  'brand': 'everest',\n",
       "  'category': 'spices',\n",
       "  'amount': 31.5,\n",
       "  'billdate': 'Sat Sep  4 21:59:12 2021'}}"
      ]
     },
     "execution_count": 72,
     "metadata": {},
     "output_type": "execute_result"
    }
   ],
   "source": [
    "ti"
   ]
  },
  {
   "cell_type": "markdown",
   "id": "c8c452c9",
   "metadata": {},
   "source": [
    "## find the total  sales amount "
   ]
  },
  {
   "cell_type": "code",
   "execution_count": 91,
   "id": "1f41b997",
   "metadata": {},
   "outputs": [
    {
     "name": "stdout",
     "output_type": "stream",
     "text": [
      "total sales made today is: Rs. 3763.70\n"
     ]
    }
   ],
   "source": [
    "sum=0\n",
    "for i in ti:\n",
    "    sum=sum+ti[i]['amount']\n",
    "print(\"total sales made today is: Rs. %.2f\"%(sum))"
   ]
  },
  {
   "cell_type": "markdown",
   "id": "e4eea775",
   "metadata": {},
   "source": [
    "## finds the product that was sold most"
   ]
  },
  {
   "cell_type": "code",
   "execution_count": 106,
   "id": "854935f7",
   "metadata": {},
   "outputs": [
    {
     "name": "stdout",
     "output_type": "stream",
     "text": [
      "The product that  sold most is dryer sheets : 10\n"
     ]
    }
   ],
   "source": [
    "m=ti[6001]['quantity']\n",
    "for i in ti:\n",
    "    if(i==6001):\n",
    "        continue\n",
    "    else:\n",
    "        if(m<ti[i]['quantity']):\n",
    "            m=ti[i]['quantity']\n",
    "            prod=ti[i]['name']\n",
    "print(\"The product that  sold most is\",prod,\":\",m)\n",
    "            \n",
    "   \n"
   ]
  },
  {
   "cell_type": "code",
   "execution_count": null,
   "id": "d44a19ff",
   "metadata": {},
   "outputs": [],
   "source": []
  }
 ],
 "metadata": {
  "kernelspec": {
   "display_name": "Python 3",
   "language": "python",
   "name": "python3"
  },
  "language_info": {
   "codemirror_mode": {
    "name": "ipython",
    "version": 3
   },
   "file_extension": ".py",
   "mimetype": "text/x-python",
   "name": "python",
   "nbconvert_exporter": "python",
   "pygments_lexer": "ipython3",
   "version": "3.8.8"
  }
 },
 "nbformat": 4,
 "nbformat_minor": 5
}
